{
 "cells": [
  {
   "cell_type": "code",
   "execution_count": 1,
   "metadata": {},
   "outputs": [],
   "source": [
    "import pandas as pd\n",
    "import psycopg2"
   ]
  },
  {
   "cell_type": "code",
   "execution_count": 2,
   "metadata": {},
   "outputs": [],
   "source": [
    "conn = psycopg2.connect(host=\"localhost\",dbname=\"postgres\", user=\"postgres\", password=\"test\")"
   ]
  },
  {
   "cell_type": "code",
   "execution_count": 3,
   "metadata": {},
   "outputs": [],
   "source": [
    "get_sql = \"select product_signal.name,product_signal.color, product_signal.value, product_signal_file.signal_file as file_path, \" \\\n",
    "              \"product_signal_file.threshold from product_signal left join product_signal_file on product_signal.id = \" \\\n",
    "              \"product_signal_file.product_signal_id where engine = 'RAZOR' and product_signal.product_id=577\""
   ]
  },
  {
   "cell_type": "code",
   "execution_count": 5,
   "metadata": {},
   "outputs": [],
   "source": [
    "df = pd.read_sql_query(get_sql,conn)"
   ]
  },
  {
   "cell_type": "code",
   "execution_count": 6,
   "metadata": {},
   "outputs": [
    {
     "data": {
      "text/plain": [
       "Index(['name', 'color', 'value', 'file_path', 'threshold'], dtype='object')"
      ]
     },
     "execution_count": 6,
     "metadata": {},
     "output_type": "execute_result"
    }
   ],
   "source": [
    "df.columns"
   ]
  },
  {
   "cell_type": "code",
   "execution_count": 7,
   "metadata": {},
   "outputs": [],
   "source": [
    "conn2= psycopg2.connect(host=\"35.200.234.61\",dbname=\"omega\", user=\"postgres\", password=\"cx6ac54nmgGtLD1y\")"
   ]
  },
  {
   "cell_type": "code",
   "execution_count": 8,
   "metadata": {},
   "outputs": [],
   "source": [
    "cur = conn2.cursor()"
   ]
  },
  {
   "cell_type": "code",
   "execution_count": 11,
   "metadata": {},
   "outputs": [
    {
     "name": "stdout",
     "output_type": "stream",
     "text": [
      "9205\n",
      "done inserting 0/52 values\n",
      "9206\n",
      "done inserting 1/52 values\n",
      "9207\n",
      "done inserting 2/52 values\n",
      "9208\n",
      "done inserting 3/52 values\n",
      "9209\n",
      "done inserting 4/52 values\n",
      "9210\n",
      "done inserting 5/52 values\n",
      "9211\n",
      "done inserting 6/52 values\n",
      "9212\n",
      "done inserting 7/52 values\n",
      "9213\n",
      "done inserting 8/52 values\n",
      "9214\n",
      "done inserting 9/52 values\n",
      "9215\n",
      "done inserting 10/52 values\n",
      "9216\n",
      "done inserting 11/52 values\n",
      "9217\n",
      "done inserting 12/52 values\n",
      "9218\n",
      "done inserting 13/52 values\n",
      "9219\n",
      "done inserting 14/52 values\n",
      "9220\n",
      "done inserting 15/52 values\n",
      "9221\n",
      "done inserting 16/52 values\n",
      "9222\n",
      "done inserting 17/52 values\n",
      "9223\n",
      "done inserting 18/52 values\n",
      "9224\n",
      "done inserting 19/52 values\n",
      "9225\n",
      "done inserting 20/52 values\n",
      "9226\n",
      "done inserting 21/52 values\n",
      "9227\n",
      "done inserting 22/52 values\n",
      "9228\n",
      "done inserting 23/52 values\n",
      "9229\n",
      "done inserting 24/52 values\n",
      "9230\n",
      "done inserting 25/52 values\n",
      "9231\n",
      "done inserting 26/52 values\n",
      "9232\n",
      "done inserting 27/52 values\n",
      "9233\n",
      "done inserting 28/52 values\n",
      "9234\n",
      "done inserting 29/52 values\n",
      "9235\n",
      "done inserting 30/52 values\n",
      "9236\n",
      "done inserting 31/52 values\n",
      "9237\n",
      "done inserting 32/52 values\n",
      "9238\n",
      "done inserting 33/52 values\n",
      "9239\n",
      "done inserting 34/52 values\n",
      "9240\n",
      "done inserting 35/52 values\n",
      "9241\n",
      "done inserting 36/52 values\n",
      "9242\n",
      "done inserting 37/52 values\n",
      "9243\n",
      "done inserting 38/52 values\n",
      "9244\n",
      "done inserting 39/52 values\n",
      "9245\n",
      "done inserting 40/52 values\n",
      "9246\n",
      "done inserting 41/52 values\n",
      "9247\n",
      "done inserting 42/52 values\n",
      "9248\n",
      "done inserting 43/52 values\n",
      "9249\n",
      "done inserting 44/52 values\n",
      "9250\n",
      "done inserting 45/52 values\n",
      "9251\n",
      "done inserting 46/52 values\n",
      "9252\n",
      "done inserting 47/52 values\n",
      "9253\n",
      "done inserting 48/52 values\n",
      "9254\n",
      "done inserting 49/52 values\n",
      "9255\n",
      "done inserting 50/52 values\n",
      "9256\n",
      "done inserting 51/52 values\n"
     ]
    }
   ],
   "source": [
    "for i,val in df.iterrows():\n",
    "    sql = \"insert into public.product_signal (name, color, value,\"\\\n",
    "    \" product_id, created_at, updated_at, is_active, type, \"\\\n",
    "    \"engine, match_type, do_generate) \"\\\n",
    "    \"values(%s, %s,%s, 577, now(), now(), true, null, 'RAZOR', 'BOTH', false) returning id\"\n",
    "    cur.execute(sql,(val['name'],val['color'],val['value']))\n",
    "    signal_id = cur.fetchone()[0]\n",
    "    conn2.commit()\n",
    "    print(signal_id)\n",
    "    insert_signal_genrated =\"insert into public.signal_generated (signal_id, text_, created_at, snippets_id, is_active) values(%s, %s, now(), null, true);\"\n",
    "    cur.execute(insert_signal_genrated,(signal_id,val['value']))\n",
    "    conn2.commit()\n",
    "    sql_file_insert=\"insert into product_signal_file (product_signal_id,signal_file,threshold) values (%s,%s,%s);\"\n",
    "    cur.execute(sql_file_insert,(signal_id,val['file_path'],val['threshold']))\n",
    "    conn2.commit()\n",
    "    print(\"done inserting {}/{} values\".format(i,len(df)))"
   ]
  },
  {
   "cell_type": "code",
   "execution_count": 11,
   "metadata": {},
   "outputs": [
    {
     "data": {
      "text/html": [
       "<div>\n",
       "<style scoped>\n",
       "    .dataframe tbody tr th:only-of-type {\n",
       "        vertical-align: middle;\n",
       "    }\n",
       "\n",
       "    .dataframe tbody tr th {\n",
       "        vertical-align: top;\n",
       "    }\n",
       "\n",
       "    .dataframe thead th {\n",
       "        text-align: right;\n",
       "    }\n",
       "</style>\n",
       "<table border=\"1\" class=\"dataframe\">\n",
       "  <thead>\n",
       "    <tr style=\"text-align: right;\">\n",
       "      <th></th>\n",
       "      <th>name</th>\n",
       "      <th>color</th>\n",
       "      <th>value</th>\n",
       "      <th>file_path</th>\n",
       "      <th>threshold</th>\n",
       "    </tr>\n",
       "  </thead>\n",
       "  <tbody>\n",
       "    <tr>\n",
       "      <th>0</th>\n",
       "      <td>Lead Qualification</td>\n",
       "      <td>#f09600</td>\n",
       "      <td>Whom are you purchasing this mattress</td>\n",
       "      <td>[b'\\x80', b'\\x03', b'c', b'p', b'a', b'n', b'd...</td>\n",
       "      <td>10.0</td>\n",
       "    </tr>\n",
       "    <tr>\n",
       "      <th>1</th>\n",
       "      <td>Lead Qualification</td>\n",
       "      <td>#f09600</td>\n",
       "      <td>What is your bed size</td>\n",
       "      <td>[b'\\x80', b'\\x03', b'c', b'p', b'a', b'n', b'd...</td>\n",
       "      <td>10.0</td>\n",
       "    </tr>\n",
       "    <tr>\n",
       "      <th>2</th>\n",
       "      <td>Lead Qualification</td>\n",
       "      <td>#f09600</td>\n",
       "      <td>In which city do you currently live</td>\n",
       "      <td>[b'\\x80', b'\\x03', b'c', b'p', b'a', b'n', b'd...</td>\n",
       "      <td>15.0</td>\n",
       "    </tr>\n",
       "    <tr>\n",
       "      <th>3</th>\n",
       "      <td>Lead Qualification</td>\n",
       "      <td>#f09600</td>\n",
       "      <td>Does the mattress have to be of any particular...</td>\n",
       "      <td>[b'\\x80', b'\\x03', b'c', b'p', b'a', b'n', b'd...</td>\n",
       "      <td>10.0</td>\n",
       "    </tr>\n",
       "    <tr>\n",
       "      <th>4</th>\n",
       "      <td>Lead Qualification</td>\n",
       "      <td>#f09600</td>\n",
       "      <td>Do you have any back problems</td>\n",
       "      <td>[b'\\x80', b'\\x03', b'c', b'p', b'a', b'n', b'd...</td>\n",
       "      <td>10.0</td>\n",
       "    </tr>\n",
       "  </tbody>\n",
       "</table>\n",
       "</div>"
      ],
      "text/plain": [
       "                 name    color  \\\n",
       "0  Lead Qualification  #f09600   \n",
       "1  Lead Qualification  #f09600   \n",
       "2  Lead Qualification  #f09600   \n",
       "3  Lead Qualification  #f09600   \n",
       "4  Lead Qualification  #f09600   \n",
       "\n",
       "                                               value  \\\n",
       "0              Whom are you purchasing this mattress   \n",
       "1                              What is your bed size   \n",
       "2                In which city do you currently live   \n",
       "3  Does the mattress have to be of any particular...   \n",
       "4                      Do you have any back problems   \n",
       "\n",
       "                                           file_path  threshold  \n",
       "0  [b'\\x80', b'\\x03', b'c', b'p', b'a', b'n', b'd...       10.0  \n",
       "1  [b'\\x80', b'\\x03', b'c', b'p', b'a', b'n', b'd...       10.0  \n",
       "2  [b'\\x80', b'\\x03', b'c', b'p', b'a', b'n', b'd...       15.0  \n",
       "3  [b'\\x80', b'\\x03', b'c', b'p', b'a', b'n', b'd...       10.0  \n",
       "4  [b'\\x80', b'\\x03', b'c', b'p', b'a', b'n', b'd...       10.0  "
      ]
     },
     "execution_count": 11,
     "metadata": {},
     "output_type": "execute_result"
    }
   ],
   "source": [
    "df.head()"
   ]
  },
  {
   "cell_type": "code",
   "execution_count": null,
   "metadata": {},
   "outputs": [],
   "source": []
  }
 ],
 "metadata": {
  "kernelspec": {
   "display_name": "Python3",
   "language": "python",
   "name": "python3"
  },
  "language_info": {
   "codemirror_mode": {
    "name": "ipython",
    "version": 3
   },
   "file_extension": ".py",
   "mimetype": "text/x-python",
   "name": "python",
   "nbconvert_exporter": "python",
   "pygments_lexer": "ipython3",
   "version": "3.6.8"
  }
 },
 "nbformat": 4,
 "nbformat_minor": 2
}
