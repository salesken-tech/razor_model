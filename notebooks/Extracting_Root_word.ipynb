{
 "cells": [
  {
   "cell_type": "code",
   "execution_count": 4,
   "metadata": {},
   "outputs": [],
   "source": [
    "from nltk.stem import PorterStemmer \n",
    "from nltk.tokenize import word_tokenize "
   ]
  },
  {
   "cell_type": "code",
   "execution_count": 5,
   "metadata": {},
   "outputs": [],
   "source": [
    "ps = PorterStemmer() "
   ]
  },
  {
   "cell_type": "code",
   "execution_count": 19,
   "metadata": {},
   "outputs": [],
   "source": [
    "tokens=word_tokenize(\"is your child interesting in the course\")"
   ]
  },
  {
   "cell_type": "code",
   "execution_count": 20,
   "metadata": {},
   "outputs": [
    {
     "name": "stdout",
     "output_type": "stream",
     "text": [
      "is  :  is\n",
      "your  :  your\n",
      "child  :  child\n",
      "interesting  :  interest\n",
      "in  :  in\n",
      "the  :  the\n",
      "course  :  cours\n"
     ]
    }
   ],
   "source": [
    "for token in tokens: \n",
    "    print(token, \" : \", ps.stem(token)) "
   ]
  },
  {
   "cell_type": "code",
   "execution_count": 21,
   "metadata": {},
   "outputs": [],
   "source": [
    "from nltk.stem import WordNetLemmatizer\n",
    "wordnet_lemmatizer = WordNetLemmatizer()"
   ]
  },
  {
   "cell_type": "code",
   "execution_count": 22,
   "metadata": {},
   "outputs": [
    {
     "name": "stdout",
     "output_type": "stream",
     "text": [
      "is : is\n",
      "your : your\n",
      "child : child\n",
      "interesting : interesting\n",
      "in : in\n",
      "the : the\n",
      "course : course\n"
     ]
    }
   ],
   "source": [
    "for token in tokens:\n",
    "    print(token,':', wordnet_lemmatizer.lemmatize(token))"
   ]
  },
  {
   "cell_type": "code",
   "execution_count": 24,
   "metadata": {},
   "outputs": [],
   "source": [
    "from nltk.stem import PorterStemmer, WordNetLemmatizer \n",
    "import nltk\n",
    "lemmatizer = WordNetLemmatizer()\n",
    "ps = PorterStemmer() "
   ]
  },
  {
   "cell_type": "code",
   "execution_count": 46,
   "metadata": {},
   "outputs": [],
   "source": [
    "def make_root_word(token_list):\n",
    "    tokens=nltk.pos_tag(token_list) \n",
    "    root_tokens=[]\n",
    "    for token in tokens:\n",
    "        if \"VB\" in token[1] :\n",
    "            root_tokens.append(ps.stem(token[0]))\n",
    "        else:\n",
    "            root_tokens.append(lemmatizer.lemmatize(token[0]))\n",
    "    return root_tokens"
   ]
  },
  {
   "cell_type": "code",
   "execution_count": null,
   "metadata": {},
   "outputs": [],
   "source": []
  },
  {
   "cell_type": "code",
   "execution_count": 11,
   "metadata": {},
   "outputs": [],
   "source": [
    "from nltk.stem import PorterStemmer \n",
    "ps = PorterStemmer() \n",
    "\n",
    "def make_root_word(tokens):\n",
    "    root_tokens=[]\n",
    "    for token in tokens:\n",
    "        root_tokens.append(ps.stem(token))\n",
    "    return root_tokens "
   ]
  },
  {
   "cell_type": "code",
   "execution_count": 49,
   "metadata": {},
   "outputs": [
    {
     "data": {
      "text/plain": [
       "['i', 'am', 'intrest', 'in', 'the', 'product', '9', '-']"
      ]
     },
     "execution_count": 49,
     "metadata": {},
     "output_type": "execute_result"
    }
   ],
   "source": [
    "x=[\"i\",'am','intrested','in','the','products',\"9\",\"-\",]\n",
    "make_root_word(x)"
   ]
  },
  {
   "cell_type": "markdown",
   "metadata": {},
   "source": []
  }
 ],
 "metadata": {
  "kernelspec": {
   "display_name": "Python3",
   "language": "python",
   "name": "python3"
  },
  "language_info": {
   "codemirror_mode": {
    "name": "ipython",
    "version": 3
   },
   "file_extension": ".py",
   "mimetype": "text/x-python",
   "name": "python",
   "nbconvert_exporter": "python",
   "pygments_lexer": "ipython3",
   "version": "3.6.8"
  }
 },
 "nbformat": 4,
 "nbformat_minor": 2
}
