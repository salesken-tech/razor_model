{
 "cells": [
  {
   "cell_type": "code",
   "execution_count": 14,
   "metadata": {},
   "outputs": [],
   "source": [
    "import requests\n",
    "import pandas as pd\n",
    "import psycopg2\n",
    "from concurrent.futures import ThreadPoolExecutor"
   ]
  },
  {
   "cell_type": "code",
   "execution_count": 3,
   "metadata": {},
   "outputs": [],
   "source": [
    "conn = psycopg2.connect(host=\"35.200.234.61\",dbname=\"omega\", user=\"postgres\", password=\"cx6ac54nmgGtLD1y\")"
   ]
  },
  {
   "cell_type": "code",
   "execution_count": 4,
   "metadata": {},
   "outputs": [],
   "source": [
    "sql = \"select task.id from task where task.actor=219596\"\n",
    "df = pd.read_sql_query(sql,conn)"
   ]
  },
  {
   "cell_type": "code",
   "execution_count": 7,
   "metadata": {},
   "outputs": [
    {
     "data": {
      "text/plain": [
       "Index(['id'], dtype='object')"
      ]
     },
     "execution_count": 7,
     "metadata": {},
     "output_type": "execute_result"
    }
   ],
   "source": [
    "df.columns"
   ]
  },
  {
   "cell_type": "code",
   "execution_count": 13,
   "metadata": {},
   "outputs": [],
   "source": [
    "task_ids=list(df[\"id\"].values)"
   ]
  },
  {
   "cell_type": "code",
   "execution_count": 43,
   "metadata": {},
   "outputs": [],
   "source": [
    "\n",
    "def send_request(task_id):\n",
    "    url = \"http://35.244.25.4:8080/lead_qualification_razor?task_id={}\".format(task_id)\n",
    "    response = requests.request(\"GET\", url)\n",
    "    print(\"done task_id={}\".format(task_id))"
   ]
  },
  {
   "cell_type": "code",
   "execution_count": 16,
   "metadata": {
    "scrolled": false
   },
   "outputs": [
    {
     "name": "stdout",
     "output_type": "stream",
     "text": [
      "done task_id=18367713\n",
      "done task_id=18356276\n",
      "done task_id=18346306\n",
      "done task_id=18349484\n",
      "done task_id=18364676\n",
      "done task_id=18358925\n",
      "done task_id=18486435\n",
      "done task_id=18362062\n",
      "done task_id=18364687\n",
      "done task_id=18364673\n",
      "done task_id=18361958\n",
      "done task_id=18358906\n",
      "done task_id=18361955\n",
      "done task_id=18364678\n",
      "done task_id=18358895\n",
      "done task_id=18364689\n",
      "done task_id=18400879\n",
      "done task_id=18358910\n",
      "done task_id=18401529\n",
      "done task_id=18362160\n",
      "done task_id=18362036\n",
      "done task_id=18358912\n",
      "done task_id=18364682\n",
      "done task_id=18367718\n",
      "done task_id=18358887\n",
      "done task_id=18357648\n",
      "done task_id=18358927\n",
      "done task_id=18361989\n",
      "done task_id=18358919\n",
      "done task_id=18358921\n",
      "done task_id=18356327\n",
      "done task_id=18356302\n",
      "done task_id=18356313\n",
      "done task_id=18361996\n",
      "done task_id=18367728\n",
      "done task_id=18356316\n",
      "done task_id=18356293\n",
      "done task_id=18356292\n",
      "done task_id=18362006\n",
      "done task_id=18400878\n",
      "done task_id=18364666\n",
      "done task_id=18401531\n",
      "done task_id=18364695\n",
      "done task_id=18356304\n",
      "done task_id=18358909\n",
      "done task_id=18364677\n",
      "done task_id=18356290\n",
      "done task_id=18362094\n",
      "done task_id=18357655\n",
      "done task_id=18357644\n",
      "done task_id=18361999\n",
      "done task_id=18362097\n",
      "done task_id=18356281\n",
      "done task_id=18356282\n",
      "done task_id=18364688\n",
      "done task_id=18356280\n",
      "done task_id=18356268\n",
      "done task_id=18356278\n",
      "done task_id=18364694\n",
      "done task_id=18356266\n",
      "done task_id=18364690\n",
      "done task_id=18361980\n",
      "done task_id=18356229\n",
      "done task_id=18356243\n",
      "done task_id=18356590\n",
      "done task_id=18356297\n",
      "done task_id=18353421\n",
      "done task_id=18367709\n",
      "done task_id=18356294\n",
      "done task_id=18356673\n",
      "done task_id=18356285\n",
      "done task_id=18353413\n",
      "done task_id=18357646\n",
      "done task_id=18353411\n",
      "done task_id=18356287\n",
      "done task_id=18356315\n",
      "done task_id=18356252\n",
      "done task_id=18356250\n",
      "done task_id=18356271\n",
      "done task_id=18356312\n",
      "done task_id=18353407\n",
      "done task_id=18349583\n",
      "done task_id=18349560\n",
      "done task_id=18356269\n",
      "done task_id=18356262\n",
      "done task_id=18356288\n",
      "done task_id=18356247\n",
      "done task_id=18349541\n",
      "done task_id=18356234\n",
      "done task_id=18486477\n",
      "done task_id=18349542\n",
      "done task_id=18356277\n",
      "done task_id=18349544\n",
      "done task_id=18356239\n",
      "done task_id=18356240\n",
      "done task_id=18356218\n",
      "done task_id=18349580\n",
      "done task_id=18353427\n",
      "done task_id=18349536\n",
      "done task_id=18349498\n",
      "done task_id=18345846\n",
      "done task_id=18349537\n",
      "done task_id=18502819\n",
      "done task_id=18346309\n",
      "done task_id=18349538\n",
      "done task_id=18346308\n",
      "done task_id=18346312\n",
      "done task_id=18349535\n",
      "done task_id=18346299\n",
      "done task_id=18349525\n",
      "done task_id=18349504\n",
      "done task_id=18346331\n",
      "done task_id=18346318\n",
      "done task_id=18345840\n",
      "done task_id=18345829\n",
      "done task_id=18346291\n",
      "done task_id=18346323\n",
      "done task_id=18346295\n",
      "done task_id=18345844\n",
      "done task_id=18345841\n",
      "done task_id=18346285\n",
      "done task_id=18345787\n",
      "done task_id=18345839\n",
      "done task_id=18349462\n",
      "done task_id=18353441\n",
      "done task_id=18356245\n",
      "done task_id=18356255\n",
      "done task_id=18356264\n",
      "done task_id=18356274\n",
      "done task_id=18346293\n",
      "done task_id=18345811\n",
      "done task_id=18356314\n",
      "done task_id=18345777\n",
      "done task_id=18337381\n",
      "done task_id=18341429\n",
      "done task_id=18345797\n",
      "done task_id=18341445\n",
      "done task_id=18340206\n",
      "done task_id=18341432\n",
      "done task_id=18341427\n",
      "done task_id=18341431\n",
      "done task_id=18340188\n",
      "done task_id=18341452\n",
      "done task_id=18345810\n",
      "done task_id=18346284\n",
      "done task_id=18349674\n",
      "done task_id=18353436\n",
      "done task_id=18356248\n",
      "done task_id=18334537\n",
      "done task_id=18340208\n",
      "done task_id=18362152\n",
      "done task_id=18340260\n",
      "done task_id=18341428\n",
      "done task_id=18341402\n",
      "done task_id=18341372\n",
      "done task_id=18502773\n",
      "done task_id=18337382\n",
      "done task_id=18340225\n",
      "done task_id=18341397\n",
      "done task_id=18337406\n",
      "done task_id=18337371\n",
      "done task_id=18340186\n",
      "done task_id=18337359\n",
      "done task_id=18340209\n",
      "done task_id=18341398\n",
      "done task_id=18337373\n",
      "done task_id=18341391\n",
      "done task_id=18346338\n",
      "done task_id=18356283\n",
      "done task_id=18337375\n",
      "done task_id=18356296\n",
      "done task_id=18353412\n",
      "done task_id=18340185\n",
      "done task_id=18337376\n",
      "done task_id=18340177\n"
     ]
    },
    {
     "ename": "KeyboardInterrupt",
     "evalue": "",
     "output_type": "error",
     "traceback": [
      "\u001b[0;31m---------------------------------------------------------------------------\u001b[0m",
      "\u001b[0;31mKeyboardInterrupt\u001b[0m                         Traceback (most recent call last)",
      "\u001b[0;32m<ipython-input-16-0fa208c4e350>\u001b[0m in \u001b[0;36m<module>\u001b[0;34m\u001b[0m\n\u001b[1;32m      1\u001b[0m \u001b[0;32mwith\u001b[0m \u001b[0mThreadPoolExecutor\u001b[0m\u001b[0;34m(\u001b[0m\u001b[0mmax_workers\u001b[0m\u001b[0;34m=\u001b[0m\u001b[0;36m50\u001b[0m\u001b[0;34m)\u001b[0m \u001b[0;32mas\u001b[0m \u001b[0mexe\u001b[0m\u001b[0;34m:\u001b[0m\u001b[0;34m\u001b[0m\u001b[0;34m\u001b[0m\u001b[0m\n\u001b[0;32m----> 2\u001b[0;31m     \u001b[0mresp\u001b[0m \u001b[0;34m=\u001b[0m \u001b[0mexe\u001b[0m\u001b[0;34m.\u001b[0m\u001b[0mmap\u001b[0m\u001b[0;34m(\u001b[0m\u001b[0msend_request\u001b[0m\u001b[0;34m,\u001b[0m\u001b[0mtask_ids\u001b[0m\u001b[0;34m)\u001b[0m\u001b[0;34m\u001b[0m\u001b[0;34m\u001b[0m\u001b[0m\n\u001b[0m",
      "\u001b[0;32m/usr/lib/python3.6/concurrent/futures/_base.py\u001b[0m in \u001b[0;36m__exit__\u001b[0;34m(self, exc_type, exc_val, exc_tb)\u001b[0m\n\u001b[1;32m    609\u001b[0m \u001b[0;34m\u001b[0m\u001b[0m\n\u001b[1;32m    610\u001b[0m     \u001b[0;32mdef\u001b[0m \u001b[0m__exit__\u001b[0m\u001b[0;34m(\u001b[0m\u001b[0mself\u001b[0m\u001b[0;34m,\u001b[0m \u001b[0mexc_type\u001b[0m\u001b[0;34m,\u001b[0m \u001b[0mexc_val\u001b[0m\u001b[0;34m,\u001b[0m \u001b[0mexc_tb\u001b[0m\u001b[0;34m)\u001b[0m\u001b[0;34m:\u001b[0m\u001b[0;34m\u001b[0m\u001b[0;34m\u001b[0m\u001b[0m\n\u001b[0;32m--> 611\u001b[0;31m         \u001b[0mself\u001b[0m\u001b[0;34m.\u001b[0m\u001b[0mshutdown\u001b[0m\u001b[0;34m(\u001b[0m\u001b[0mwait\u001b[0m\u001b[0;34m=\u001b[0m\u001b[0;32mTrue\u001b[0m\u001b[0;34m)\u001b[0m\u001b[0;34m\u001b[0m\u001b[0;34m\u001b[0m\u001b[0m\n\u001b[0m\u001b[1;32m    612\u001b[0m         \u001b[0;32mreturn\u001b[0m \u001b[0;32mFalse\u001b[0m\u001b[0;34m\u001b[0m\u001b[0;34m\u001b[0m\u001b[0m\n",
      "\u001b[0;32m/usr/lib/python3.6/concurrent/futures/thread.py\u001b[0m in \u001b[0;36mshutdown\u001b[0;34m(self, wait)\u001b[0m\n\u001b[1;32m    150\u001b[0m         \u001b[0;32mif\u001b[0m \u001b[0mwait\u001b[0m\u001b[0;34m:\u001b[0m\u001b[0;34m\u001b[0m\u001b[0;34m\u001b[0m\u001b[0m\n\u001b[1;32m    151\u001b[0m             \u001b[0;32mfor\u001b[0m \u001b[0mt\u001b[0m \u001b[0;32min\u001b[0m \u001b[0mself\u001b[0m\u001b[0;34m.\u001b[0m\u001b[0m_threads\u001b[0m\u001b[0;34m:\u001b[0m\u001b[0;34m\u001b[0m\u001b[0;34m\u001b[0m\u001b[0m\n\u001b[0;32m--> 152\u001b[0;31m                 \u001b[0mt\u001b[0m\u001b[0;34m.\u001b[0m\u001b[0mjoin\u001b[0m\u001b[0;34m(\u001b[0m\u001b[0;34m)\u001b[0m\u001b[0;34m\u001b[0m\u001b[0;34m\u001b[0m\u001b[0m\n\u001b[0m\u001b[1;32m    153\u001b[0m     \u001b[0mshutdown\u001b[0m\u001b[0;34m.\u001b[0m\u001b[0m__doc__\u001b[0m \u001b[0;34m=\u001b[0m \u001b[0m_base\u001b[0m\u001b[0;34m.\u001b[0m\u001b[0mExecutor\u001b[0m\u001b[0;34m.\u001b[0m\u001b[0mshutdown\u001b[0m\u001b[0;34m.\u001b[0m\u001b[0m__doc__\u001b[0m\u001b[0;34m\u001b[0m\u001b[0;34m\u001b[0m\u001b[0m\n",
      "\u001b[0;32m/usr/lib/python3.6/threading.py\u001b[0m in \u001b[0;36mjoin\u001b[0;34m(self, timeout)\u001b[0m\n\u001b[1;32m   1054\u001b[0m \u001b[0;34m\u001b[0m\u001b[0m\n\u001b[1;32m   1055\u001b[0m         \u001b[0;32mif\u001b[0m \u001b[0mtimeout\u001b[0m \u001b[0;32mis\u001b[0m \u001b[0;32mNone\u001b[0m\u001b[0;34m:\u001b[0m\u001b[0;34m\u001b[0m\u001b[0;34m\u001b[0m\u001b[0m\n\u001b[0;32m-> 1056\u001b[0;31m             \u001b[0mself\u001b[0m\u001b[0;34m.\u001b[0m\u001b[0m_wait_for_tstate_lock\u001b[0m\u001b[0;34m(\u001b[0m\u001b[0;34m)\u001b[0m\u001b[0;34m\u001b[0m\u001b[0;34m\u001b[0m\u001b[0m\n\u001b[0m\u001b[1;32m   1057\u001b[0m         \u001b[0;32melse\u001b[0m\u001b[0;34m:\u001b[0m\u001b[0;34m\u001b[0m\u001b[0;34m\u001b[0m\u001b[0m\n\u001b[1;32m   1058\u001b[0m             \u001b[0;31m# the behavior of a negative timeout isn't documented, but\u001b[0m\u001b[0;34m\u001b[0m\u001b[0;34m\u001b[0m\u001b[0;34m\u001b[0m\u001b[0m\n",
      "\u001b[0;32m/usr/lib/python3.6/threading.py\u001b[0m in \u001b[0;36m_wait_for_tstate_lock\u001b[0;34m(self, block, timeout)\u001b[0m\n\u001b[1;32m   1070\u001b[0m         \u001b[0;32mif\u001b[0m \u001b[0mlock\u001b[0m \u001b[0;32mis\u001b[0m \u001b[0;32mNone\u001b[0m\u001b[0;34m:\u001b[0m  \u001b[0;31m# already determined that the C code is done\u001b[0m\u001b[0;34m\u001b[0m\u001b[0;34m\u001b[0m\u001b[0m\n\u001b[1;32m   1071\u001b[0m             \u001b[0;32massert\u001b[0m \u001b[0mself\u001b[0m\u001b[0;34m.\u001b[0m\u001b[0m_is_stopped\u001b[0m\u001b[0;34m\u001b[0m\u001b[0;34m\u001b[0m\u001b[0m\n\u001b[0;32m-> 1072\u001b[0;31m         \u001b[0;32melif\u001b[0m \u001b[0mlock\u001b[0m\u001b[0;34m.\u001b[0m\u001b[0macquire\u001b[0m\u001b[0;34m(\u001b[0m\u001b[0mblock\u001b[0m\u001b[0;34m,\u001b[0m \u001b[0mtimeout\u001b[0m\u001b[0;34m)\u001b[0m\u001b[0;34m:\u001b[0m\u001b[0;34m\u001b[0m\u001b[0;34m\u001b[0m\u001b[0m\n\u001b[0m\u001b[1;32m   1073\u001b[0m             \u001b[0mlock\u001b[0m\u001b[0;34m.\u001b[0m\u001b[0mrelease\u001b[0m\u001b[0;34m(\u001b[0m\u001b[0;34m)\u001b[0m\u001b[0;34m\u001b[0m\u001b[0;34m\u001b[0m\u001b[0m\n\u001b[1;32m   1074\u001b[0m             \u001b[0mself\u001b[0m\u001b[0;34m.\u001b[0m\u001b[0m_stop\u001b[0m\u001b[0;34m(\u001b[0m\u001b[0;34m)\u001b[0m\u001b[0;34m\u001b[0m\u001b[0;34m\u001b[0m\u001b[0m\n",
      "\u001b[0;31mKeyboardInterrupt\u001b[0m: "
     ]
    }
   ],
   "source": [
    "with ThreadPoolExecutor(max_workers=50) as exe:\n",
    "    resp = exe.map(send_request,task_ids)"
   ]
  },
  {
   "cell_type": "code",
   "execution_count": 17,
   "metadata": {},
   "outputs": [],
   "source": [
    "x=\"done task_id=18367713 done task_id=18356276 done task_id=18346306 done task_id=18349484 done task_id=18364676 done task_id=18358925 done task_id=18486435 done task_id=18362062 done task_id=18364687 done task_id=18364673 done task_id=18361958 done task_id=18358906 done task_id=18361955 done task_id=18364678 done task_id=18358895 done task_id=18364689 done task_id=18400879 done task_id=18358910 done task_id=18401529 done task_id=18362160 done task_id=18362036 done task_id=18358912 done task_id=18364682 done task_id=18367718 done task_id=18358887 done task_id=18357648 done task_id=18358927 done task_id=18361989 done task_id=18358919 done task_id=18358921 done task_id=18356327 done task_id=18356302 done task_id=18356313 done task_id=18361996 done task_id=18367728 done task_id=18356316 done task_id=18356293 done task_id=18356292 done task_id=18362006 done task_id=18400878 done task_id=18364666 done task_id=18401531 done task_id=18364695 done task_id=18356304 done task_id=18358909 done task_id=18364677 done task_id=18356290 done task_id=18362094 done task_id=18357655 done task_id=18357644 done task_id=18361999 done task_id=18362097 done task_id=18356281 done task_id=18356282 done task_id=18364688 done task_id=18356280 done task_id=18356268 done task_id=18356278 done task_id=18364694 done task_id=18356266 done task_id=18364690 done task_id=18361980 done task_id=18356229 done task_id=18356243 done task_id=18356590 done task_id=18356297 done task_id=18353421 done task_id=18367709 done task_id=18356294 done task_id=18356673 done task_id=18356285 done task_id=18353413 done task_id=18357646 done task_id=18353411 done task_id=18356287 done task_id=18356315 done task_id=18356252 done task_id=18356250 done task_id=18356271 done task_id=18356312 done task_id=18353407 done task_id=18349583 done task_id=18349560 done task_id=18356269 done task_id=18356262 done task_id=18356288 done task_id=18356247 done task_id=18349541 done task_id=18356234 done task_id=18486477 done task_id=18349542 done task_id=18356277 done task_id=18349544 done task_id=18356239 done task_id=18356240 done task_id=18356218 done task_id=18349580 done task_id=18353427 done task_id=18349536 done task_id=18349498 done task_id=18345846 done task_id=18349537 done task_id=18502819 done task_id=18346309 done task_id=18349538 done task_id=18346308 done task_id=18346312 done task_id=18349535 done task_id=18346299 done task_id=18349525 done task_id=18349504 done task_id=18346331 done task_id=18346318 done task_id=18345840 done task_id=18345829 done task_id=18346291 done task_id=18346323 done task_id=18346295 done task_id=18345844 done task_id=18345841 done task_id=18346285 done task_id=18345787 done task_id=18345839 done task_id=18349462 done task_id=18353441 done task_id=18356245 done task_id=18356255 done task_id=18356264 done task_id=18356274 done task_id=18346293 done task_id=18345811 done task_id=18356314 done task_id=18345777 done task_id=18337381 done task_id=18341429 done task_id=18345797 done task_id=18341445 done task_id=18340206 done task_id=18341432 done task_id=18341427 done task_id=18341431 done task_id=18340188 done task_id=18341452 done task_id=18345810 done task_id=18346284 done task_id=18349674 done task_id=18353436 done task_id=18356248 done task_id=18334537 done task_id=18340208 done task_id=18362152 done task_id=18340260 done task_id=18341428 done task_id=18341402 done task_id=18341372 done task_id=18502773 done task_id=18337382 done task_id=18340225 done task_id=18341397 done task_id=18337406 done task_id=18337371 done task_id=18340186 done task_id=18337359 done task_id=18340209 done task_id=18341398 done task_id=18337373 done task_id=18341391 done task_id=18346338 done task_id=18356283 done task_id=18337375 done task_id=18356296 done task_id=18353412 done task_id=18340185 done task_id=18337376 done task_id=18340177\""
   ]
  },
  {
   "cell_type": "code",
   "execution_count": 22,
   "metadata": {},
   "outputs": [],
   "source": [
    "import re\n",
    "done_tasks=re.findall(r\"\\d{8}\",x)"
   ]
  },
  {
   "cell_type": "code",
   "execution_count": 39,
   "metadata": {},
   "outputs": [],
   "source": [
    "left_tasks= []\n",
    "for item in task_ids:\n",
    "    if str(item) not in done_tasks:\n",
    "        left_tasks.append(item)\n"
   ]
  },
  {
   "cell_type": "code",
   "execution_count": 40,
   "metadata": {},
   "outputs": [
    {
     "data": {
      "text/plain": [
       "498"
      ]
     },
     "execution_count": 40,
     "metadata": {},
     "output_type": "execute_result"
    }
   ],
   "source": [
    "len(task_ids)"
   ]
  },
  {
   "cell_type": "code",
   "execution_count": 41,
   "metadata": {},
   "outputs": [
    {
     "data": {
      "text/plain": [
       "323"
      ]
     },
     "execution_count": 41,
     "metadata": {},
     "output_type": "execute_result"
    }
   ],
   "source": [
    "len(left_tasks)"
   ]
  },
  {
   "cell_type": "code",
   "execution_count": 45,
   "metadata": {},
   "outputs": [
    {
     "ename": "KeyboardInterrupt",
     "evalue": "",
     "output_type": "error",
     "traceback": [
      "\u001b[0;31m---------------------------------------------------------------------------\u001b[0m",
      "\u001b[0;31mKeyboardInterrupt\u001b[0m                         Traceback (most recent call last)",
      "\u001b[0;32m<ipython-input-45-7555d48fed1b>\u001b[0m in \u001b[0;36m<module>\u001b[0;34m\u001b[0m\n\u001b[1;32m      1\u001b[0m \u001b[0;32mwith\u001b[0m \u001b[0mThreadPoolExecutor\u001b[0m\u001b[0;34m(\u001b[0m\u001b[0mmax_workers\u001b[0m\u001b[0;34m=\u001b[0m\u001b[0;36m10\u001b[0m\u001b[0;34m)\u001b[0m \u001b[0;32mas\u001b[0m \u001b[0mexe\u001b[0m\u001b[0;34m:\u001b[0m\u001b[0;34m\u001b[0m\u001b[0;34m\u001b[0m\u001b[0m\n\u001b[0;32m----> 2\u001b[0;31m     \u001b[0mresp\u001b[0m \u001b[0;34m=\u001b[0m \u001b[0mexe\u001b[0m\u001b[0;34m.\u001b[0m\u001b[0mmap\u001b[0m\u001b[0;34m(\u001b[0m\u001b[0msend_request\u001b[0m\u001b[0;34m,\u001b[0m\u001b[0mleft_tasks\u001b[0m\u001b[0;34m)\u001b[0m\u001b[0;34m\u001b[0m\u001b[0;34m\u001b[0m\u001b[0m\n\u001b[0m",
      "\u001b[0;32m/usr/lib/python3.6/concurrent/futures/_base.py\u001b[0m in \u001b[0;36m__exit__\u001b[0;34m(self, exc_type, exc_val, exc_tb)\u001b[0m\n\u001b[1;32m    609\u001b[0m \u001b[0;34m\u001b[0m\u001b[0m\n\u001b[1;32m    610\u001b[0m     \u001b[0;32mdef\u001b[0m \u001b[0m__exit__\u001b[0m\u001b[0;34m(\u001b[0m\u001b[0mself\u001b[0m\u001b[0;34m,\u001b[0m \u001b[0mexc_type\u001b[0m\u001b[0;34m,\u001b[0m \u001b[0mexc_val\u001b[0m\u001b[0;34m,\u001b[0m \u001b[0mexc_tb\u001b[0m\u001b[0;34m)\u001b[0m\u001b[0;34m:\u001b[0m\u001b[0;34m\u001b[0m\u001b[0;34m\u001b[0m\u001b[0m\n\u001b[0;32m--> 611\u001b[0;31m         \u001b[0mself\u001b[0m\u001b[0;34m.\u001b[0m\u001b[0mshutdown\u001b[0m\u001b[0;34m(\u001b[0m\u001b[0mwait\u001b[0m\u001b[0;34m=\u001b[0m\u001b[0;32mTrue\u001b[0m\u001b[0;34m)\u001b[0m\u001b[0;34m\u001b[0m\u001b[0;34m\u001b[0m\u001b[0m\n\u001b[0m\u001b[1;32m    612\u001b[0m         \u001b[0;32mreturn\u001b[0m \u001b[0;32mFalse\u001b[0m\u001b[0;34m\u001b[0m\u001b[0;34m\u001b[0m\u001b[0m\n",
      "\u001b[0;32m/usr/lib/python3.6/concurrent/futures/thread.py\u001b[0m in \u001b[0;36mshutdown\u001b[0;34m(self, wait)\u001b[0m\n\u001b[1;32m    150\u001b[0m         \u001b[0;32mif\u001b[0m \u001b[0mwait\u001b[0m\u001b[0;34m:\u001b[0m\u001b[0;34m\u001b[0m\u001b[0;34m\u001b[0m\u001b[0m\n\u001b[1;32m    151\u001b[0m             \u001b[0;32mfor\u001b[0m \u001b[0mt\u001b[0m \u001b[0;32min\u001b[0m \u001b[0mself\u001b[0m\u001b[0;34m.\u001b[0m\u001b[0m_threads\u001b[0m\u001b[0;34m:\u001b[0m\u001b[0;34m\u001b[0m\u001b[0;34m\u001b[0m\u001b[0m\n\u001b[0;32m--> 152\u001b[0;31m                 \u001b[0mt\u001b[0m\u001b[0;34m.\u001b[0m\u001b[0mjoin\u001b[0m\u001b[0;34m(\u001b[0m\u001b[0;34m)\u001b[0m\u001b[0;34m\u001b[0m\u001b[0;34m\u001b[0m\u001b[0m\n\u001b[0m\u001b[1;32m    153\u001b[0m     \u001b[0mshutdown\u001b[0m\u001b[0;34m.\u001b[0m\u001b[0m__doc__\u001b[0m \u001b[0;34m=\u001b[0m \u001b[0m_base\u001b[0m\u001b[0;34m.\u001b[0m\u001b[0mExecutor\u001b[0m\u001b[0;34m.\u001b[0m\u001b[0mshutdown\u001b[0m\u001b[0;34m.\u001b[0m\u001b[0m__doc__\u001b[0m\u001b[0;34m\u001b[0m\u001b[0;34m\u001b[0m\u001b[0m\n",
      "\u001b[0;32m/usr/lib/python3.6/threading.py\u001b[0m in \u001b[0;36mjoin\u001b[0;34m(self, timeout)\u001b[0m\n\u001b[1;32m   1054\u001b[0m \u001b[0;34m\u001b[0m\u001b[0m\n\u001b[1;32m   1055\u001b[0m         \u001b[0;32mif\u001b[0m \u001b[0mtimeout\u001b[0m \u001b[0;32mis\u001b[0m \u001b[0;32mNone\u001b[0m\u001b[0;34m:\u001b[0m\u001b[0;34m\u001b[0m\u001b[0;34m\u001b[0m\u001b[0m\n\u001b[0;32m-> 1056\u001b[0;31m             \u001b[0mself\u001b[0m\u001b[0;34m.\u001b[0m\u001b[0m_wait_for_tstate_lock\u001b[0m\u001b[0;34m(\u001b[0m\u001b[0;34m)\u001b[0m\u001b[0;34m\u001b[0m\u001b[0;34m\u001b[0m\u001b[0m\n\u001b[0m\u001b[1;32m   1057\u001b[0m         \u001b[0;32melse\u001b[0m\u001b[0;34m:\u001b[0m\u001b[0;34m\u001b[0m\u001b[0;34m\u001b[0m\u001b[0m\n\u001b[1;32m   1058\u001b[0m             \u001b[0;31m# the behavior of a negative timeout isn't documented, but\u001b[0m\u001b[0;34m\u001b[0m\u001b[0;34m\u001b[0m\u001b[0;34m\u001b[0m\u001b[0m\n",
      "\u001b[0;32m/usr/lib/python3.6/threading.py\u001b[0m in \u001b[0;36m_wait_for_tstate_lock\u001b[0;34m(self, block, timeout)\u001b[0m\n\u001b[1;32m   1070\u001b[0m         \u001b[0;32mif\u001b[0m \u001b[0mlock\u001b[0m \u001b[0;32mis\u001b[0m \u001b[0;32mNone\u001b[0m\u001b[0;34m:\u001b[0m  \u001b[0;31m# already determined that the C code is done\u001b[0m\u001b[0;34m\u001b[0m\u001b[0;34m\u001b[0m\u001b[0m\n\u001b[1;32m   1071\u001b[0m             \u001b[0;32massert\u001b[0m \u001b[0mself\u001b[0m\u001b[0;34m.\u001b[0m\u001b[0m_is_stopped\u001b[0m\u001b[0;34m\u001b[0m\u001b[0;34m\u001b[0m\u001b[0m\n\u001b[0;32m-> 1072\u001b[0;31m         \u001b[0;32melif\u001b[0m \u001b[0mlock\u001b[0m\u001b[0;34m.\u001b[0m\u001b[0macquire\u001b[0m\u001b[0;34m(\u001b[0m\u001b[0mblock\u001b[0m\u001b[0;34m,\u001b[0m \u001b[0mtimeout\u001b[0m\u001b[0;34m)\u001b[0m\u001b[0;34m:\u001b[0m\u001b[0;34m\u001b[0m\u001b[0;34m\u001b[0m\u001b[0m\n\u001b[0m\u001b[1;32m   1073\u001b[0m             \u001b[0mlock\u001b[0m\u001b[0;34m.\u001b[0m\u001b[0mrelease\u001b[0m\u001b[0;34m(\u001b[0m\u001b[0;34m)\u001b[0m\u001b[0;34m\u001b[0m\u001b[0;34m\u001b[0m\u001b[0m\n\u001b[1;32m   1074\u001b[0m             \u001b[0mself\u001b[0m\u001b[0;34m.\u001b[0m\u001b[0m_stop\u001b[0m\u001b[0;34m(\u001b[0m\u001b[0;34m)\u001b[0m\u001b[0;34m\u001b[0m\u001b[0;34m\u001b[0m\u001b[0m\n",
      "\u001b[0;31mKeyboardInterrupt\u001b[0m: "
     ]
    }
   ],
   "source": [
    "with ThreadPoolExecutor(max_workers=10) as exe:\n",
    "    resp = exe.map(send_request,left_tasks)"
   ]
  },
  {
   "cell_type": "code",
   "execution_count": null,
   "metadata": {},
   "outputs": [],
   "source": []
  }
 ],
 "metadata": {
  "kernelspec": {
   "display_name": "Python3",
   "language": "python",
   "name": "python3"
  },
  "language_info": {
   "codemirror_mode": {
    "name": "ipython",
    "version": 3
   },
   "file_extension": ".py",
   "mimetype": "text/x-python",
   "name": "python",
   "nbconvert_exporter": "python",
   "pygments_lexer": "ipython3",
   "version": "3.6.8"
  }
 },
 "nbformat": 4,
 "nbformat_minor": 2
}
