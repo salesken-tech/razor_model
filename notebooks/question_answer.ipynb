{
 "cells": [
  {
   "cell_type": "code",
   "execution_count": 1,
   "metadata": {},
   "outputs": [],
   "source": [
    "import spacy\n",
    "import textacy\n",
    "import pandas as pd"
   ]
  },
  {
   "cell_type": "code",
   "execution_count": 2,
   "metadata": {},
   "outputs": [],
   "source": [
    "tokens=[\"falsify\",\"caricature\",\"heighten\",\"am\",\"heighten\",\"heighten\",\"to\"]\n",
    "df = pd.read_pickle(\"/home/andy/Desktop/sken_project/speech_signal_detection/src/resources/signal_pickles/signal_15-04-2020_04-44-52\")"
   ]
  },
  {
   "cell_type": "code",
   "execution_count": 3,
   "metadata": {},
   "outputs": [
    {
     "name": "stdout",
     "output_type": "stream",
     "text": [
      "{'matched_tokens': ['falsify', 'caricature', 'heighten', 'am', 'to'], 'score': 5}\n"
     ]
    }
   ],
   "source": [
    "threshold=5\n",
    "matched = {\"matched_tokens\": []}\n",
    "score=0\n",
    "for tok in tokens:\n",
    "    for i,val in enumerate(df.val):\n",
    "        if val.isin([tok]).any() and tok not in matched['matched_tokens']:\n",
    "            matched[\"matched_tokens\"].append(tok)\n",
    "            score+=df.score[i]\n",
    "\n",
    "if score>=threshold:\n",
    "    matched[\"score\"]=score\n",
    "    print(matched)"
   ]
  },
  {
   "cell_type": "code",
   "execution_count": 26,
   "metadata": {},
   "outputs": [
    {
     "data": {
      "text/html": [
       "<div>\n",
       "<style scoped>\n",
       "    .dataframe tbody tr th:only-of-type {\n",
       "        vertical-align: middle;\n",
       "    }\n",
       "\n",
       "    .dataframe tbody tr th {\n",
       "        vertical-align: top;\n",
       "    }\n",
       "\n",
       "    .dataframe thead th {\n",
       "        text-align: right;\n",
       "    }\n",
       "</style>\n",
       "<table border=\"1\" class=\"dataframe\">\n",
       "  <thead>\n",
       "    <tr style=\"text-align: right;\">\n",
       "      <th></th>\n",
       "      <th>val</th>\n",
       "      <th>score</th>\n",
       "    </tr>\n",
       "  </thead>\n",
       "  <tbody>\n",
       "    <tr>\n",
       "      <th>0</th>\n",
       "      <td>0              i\n",
       "1        falsify\n",
       "2     carica...</td>\n",
       "      <td>1</td>\n",
       "    </tr>\n",
       "    <tr>\n",
       "      <th>1</th>\n",
       "      <td>0    am\n",
       "dtype: object</td>\n",
       "      <td>1</td>\n",
       "    </tr>\n",
       "    <tr>\n",
       "      <th>2</th>\n",
       "      <td>0       planing\n",
       "1          calm\n",
       "2       reliev...</td>\n",
       "      <td>1</td>\n",
       "    </tr>\n",
       "    <tr>\n",
       "      <th>3</th>\n",
       "      <td>0            to\n",
       "1           via\n",
       "2      directe...</td>\n",
       "      <td>1</td>\n",
       "    </tr>\n",
       "    <tr>\n",
       "      <th>4</th>\n",
       "      <td>0    go\n",
       "dtype: object</td>\n",
       "      <td>1</td>\n",
       "    </tr>\n",
       "    <tr>\n",
       "      <th>5</th>\n",
       "      <td>0            to\n",
       "1           via\n",
       "2      directe...</td>\n",
       "      <td>1</td>\n",
       "    </tr>\n",
       "    <tr>\n",
       "      <th>6</th>\n",
       "      <td>0    Kerala\n",
       "dtype: object</td>\n",
       "      <td>1</td>\n",
       "    </tr>\n",
       "  </tbody>\n",
       "</table>\n",
       "</div>"
      ],
      "text/plain": [
       "                                                 val  score\n",
       "0  0              i\n",
       "1        falsify\n",
       "2     carica...      1\n",
       "1                              0    am\n",
       "dtype: object      1\n",
       "2  0       planing\n",
       "1          calm\n",
       "2       reliev...      1\n",
       "3  0            to\n",
       "1           via\n",
       "2      directe...      1\n",
       "4                              0    go\n",
       "dtype: object      1\n",
       "5  0            to\n",
       "1           via\n",
       "2      directe...      1\n",
       "6                          0    Kerala\n",
       "dtype: object      1"
      ]
     },
     "execution_count": 26,
     "metadata": {},
     "output_type": "execute_result"
    }
   ],
   "source": [
    "df.apply()"
   ]
  },
  {
   "cell_type": "code",
   "execution_count": 37,
   "metadata": {},
   "outputs": [],
   "source": [
    "from concurrent.futures import ProcessPoolExecutor,ThreadPoolExecutor\n",
    "import numpy as np\n",
    "import time\n",
    "import math"
   ]
  },
  {
   "cell_type": "code",
   "execution_count": 31,
   "metadata": {},
   "outputs": [],
   "source": [
    "data=np.random.randint(100000,size=100000)"
   ]
  },
  {
   "cell_type": "code",
   "execution_count": 32,
   "metadata": {},
   "outputs": [],
   "source": [
    "def mul(x):\n",
    "    return math.sqrt(x*x)\n",
    "    "
   ]
  },
  {
   "cell_type": "code",
   "execution_count": 34,
   "metadata": {},
   "outputs": [
    {
     "name": "stdout",
     "output_type": "stream",
     "text": [
      "0.0252683162689209\n"
     ]
    }
   ],
   "source": [
    "s=time.time()\n",
    "ans=[]\n",
    "for i in data:\n",
    "    ans.append(math.sqrt(i*i))\n",
    "print(time.time()-s)"
   ]
  },
  {
   "cell_type": "code",
   "execution_count": 36,
   "metadata": {},
   "outputs": [
    {
     "name": "stdout",
     "output_type": "stream",
     "text": [
      "13.817586421966553\n"
     ]
    }
   ],
   "source": [
    "s=time.time()\n",
    "with ProcessPoolExecutor(max_workers=11) as exe:\n",
    "    future=exe.map(mul,data)\n",
    "print(time.time()-s)"
   ]
  },
  {
   "cell_type": "code",
   "execution_count": 39,
   "metadata": {},
   "outputs": [
    {
     "name": "stdout",
     "output_type": "stream",
     "text": [
      "3.687540292739868\n"
     ]
    }
   ],
   "source": [
    "s=time.time()\n",
    "with ThreadPoolExecutor(max_workers=22) as exe:\n",
    "    future=list(exe.map(mul,data))\n",
    "print(time.time()-s)"
   ]
  },
  {
   "cell_type": "code",
   "execution_count": null,
   "metadata": {},
   "outputs": [],
   "source": []
  }
 ],
 "metadata": {
  "kernelspec": {
   "display_name": "Python3",
   "language": "python",
   "name": "python3"
  },
  "language_info": {
   "codemirror_mode": {
    "name": "ipython",
    "version": 3
   },
   "file_extension": ".py",
   "mimetype": "text/x-python",
   "name": "python",
   "nbconvert_exporter": "python",
   "pygments_lexer": "ipython3",
   "version": "3.6.8"
  }
 },
 "nbformat": 4,
 "nbformat_minor": 2
}
