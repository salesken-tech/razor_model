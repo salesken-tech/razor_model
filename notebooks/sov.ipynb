{
 "cells": [
  {
   "cell_type": "code",
   "execution_count": 1,
   "metadata": {},
   "outputs": [],
   "source": [
    "import spacy\n",
    "import textacy\n",
    "import re"
   ]
  },
  {
   "cell_type": "code",
   "execution_count": 2,
   "metadata": {},
   "outputs": [],
   "source": [
    "def find_questions(test_str):\n",
    "    quest = []\n",
    "\n",
    "    # find question mark and the complete sentence\n",
    "    regex = r\"(^|(?<=[.?!]))\\s*[A-Za-z,;'\\\"\\s]+\\?\"\n",
    "    matches = re.finditer(regex, test_str, re.IGNORECASE)\n",
    "    for match in matches:\n",
    "        quest.append(match.group())\n",
    "\n",
    "    # find 5W 1H and the complete sentence\n",
    "    whQue = re.findall(r\"(how|can|what|where|describe|who|when|why)(?i)\", test_str)\n",
    "    for que in whQue:\n",
    "        regex = r\"[^.?!]*(?<=[.?\\s!])\" + que + \"(?=[\\s.?!])[^.?!]*[.?!]\"\n",
    "        test_str = \".\" + test_str + \".\"\n",
    "        result = re.findall(regex, test_str)\n",
    "        quest = quest + result\n",
    "    # return list(set(quest))\n",
    "    return list(set([item.strip() for item in quest]))\n"
   ]
  },
  {
   "cell_type": "code",
   "execution_count": 4,
   "metadata": {},
   "outputs": [
    {
     "data": {
      "text/plain": [
       "['hello i am doing good,how are you?']"
      ]
     },
     "execution_count": 4,
     "metadata": {},
     "output_type": "execute_result"
    }
   ],
   "source": [
    "find_questions(\"hello i am doing good,how are you?\")"
   ]
  },
  {
   "cell_type": "code",
   "execution_count": 9,
   "metadata": {},
   "outputs": [],
   "source": [
    "nlp = spacy.load('en_core_web_sm')\n",
    "text = nlp(\"Filming for King Kong took place in New Zealand from September 2004 to March 2005.\")\n",
    "\n",
    "text_ext = textacy.extract.subject_verb_object_triples(text)"
   ]
  },
  {
   "cell_type": "code",
   "execution_count": 10,
   "metadata": {},
   "outputs": [
    {
     "name": "stdout",
     "output_type": "stream",
     "text": [
      "(Filming, took, place)\n"
     ]
    }
   ],
   "source": [
    "for item in text_ext:\n",
    "    print(item)"
   ]
  },
  {
   "cell_type": "code",
   "execution_count": null,
   "metadata": {},
   "outputs": [],
   "source": []
  }
 ],
 "metadata": {
  "kernelspec": {
   "display_name": "Python3",
   "language": "python",
   "name": "python3"
  },
  "language_info": {
   "codemirror_mode": {
    "name": "ipython",
    "version": 3
   },
   "file_extension": ".py",
   "mimetype": "text/x-python",
   "name": "python",
   "nbconvert_exporter": "python",
   "pygments_lexer": "ipython3",
   "version": "3.6.8"
  }
 },
 "nbformat": 4,
 "nbformat_minor": 2
}
